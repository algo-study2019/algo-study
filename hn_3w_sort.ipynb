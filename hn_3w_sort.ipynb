{
 "cells": [
  {
   "cell_type": "code",
   "execution_count": 10,
   "metadata": {
    "ExecuteTime": {
     "end_time": "2019-02-05T08:17:25.483313Z",
     "start_time": "2019-02-05T08:17:25.476360Z"
    }
   },
   "outputs": [
    {
     "name": "stdout",
     "output_type": "stream",
     "text": [
      "1 2 0 "
     ]
    }
   ],
   "source": [
    "# [NO] bj1015 수열정렬\n",
    "# n = int(input())\n",
    "# a = input().split()\n",
    "n = '3'\n",
    "a = '2 3 1'\n",
    "a = list((i, element) for i, element in enumerate(map(int,a.split())))\n",
    "a = sorted(a, key=lambda k: k[1])\n",
    "p = [None for _ in range(n)]\n",
    "for sortedidx, (idx, _) in enumerate(a):\n",
    "    p[idx] = sortedidx\n",
    "for v in p:\n",
    "    print(v, end=' ')"
   ]
  },
  {
   "cell_type": "code",
   "execution_count": 37,
   "metadata": {
    "ExecuteTime": {
     "end_time": "2019-02-09T09:13:12.240634Z",
     "start_time": "2019-02-09T09:13:12.230660Z"
    }
   },
   "outputs": [
    {
     "name": "stdout",
     "output_type": "stream",
     "text": [
      "Donghyuk\n",
      "Sangkeun\n",
      "Sunyoung\n",
      "nsj\n",
      "Wonseob\n",
      "Sanghyun\n",
      "Sei\n",
      "Kangsoo\n",
      "Haebin\n",
      "Junkyu\n",
      "Soong\n",
      "Taewhan\n"
     ]
    }
   ],
   "source": [
    "# bj 10825 국영수\n",
    "eg1 = '''12\n",
    "Junkyu 50 60 100\n",
    "Sangkeun 80 60 50\n",
    "Sunyoung 80 70 100\n",
    "Soong 50 60 90\n",
    "Haebin 50 60 100\n",
    "Kangsoo 60 80 100\n",
    "Donghyuk 80 60 100\n",
    "Sei 70 70 70\n",
    "Wonseob 70 70 90\n",
    "Sanghyun 70 70 80\n",
    "nsj 80 80 80\n",
    "Taewhan 50 60 90'''\n",
    "# n = int(input())\n",
    "import sys\n",
    "sys.setrecursionlimit(20000000)\n",
    "eg1 = eg1.split('\\n')\n",
    "n = int(eg1[0])\n",
    "\n",
    "def merge_sort(origin, dup, key, low, high, ascending=True):\n",
    "    if high <= low :\n",
    "        return\n",
    "    mid = low + (high-low)//2\n",
    "    merge_sort(origin, dup, key, low, mid, ascending=ascending)\n",
    "    merge_sort(origin, dup, key, mid+1, high, ascending=ascending)\n",
    "    merge(origin, dup, key, low, mid, high, ascending=ascending)\n",
    "    \n",
    "def merge(origin, dup, key, low, mid, high, ascending):\n",
    "    i = low\n",
    "    j = mid+1\n",
    "    for k in range(low, high+1):\n",
    "        if i>mid:\n",
    "            dup[k] = origin[j]\n",
    "            j+=1\n",
    "        elif j > high:\n",
    "            dup[k] = origin[i]\n",
    "            i+=1\n",
    "        elif ascending:\n",
    "            if origin[i][key] <= origin[j][key]:\n",
    "                dup[k] = origin[i]\n",
    "                i+=1\n",
    "            else : \n",
    "                dup[k] = origin[j]\n",
    "                j+=1\n",
    "        else :\n",
    "            if origin[i][key] >= origin[j][key] : \n",
    "                dup[k] = origin[i]\n",
    "                i+=1\n",
    "            else:\n",
    "                dup[k] = origin[j]\n",
    "                j+=1\n",
    "    for k in range(low, high+1):\n",
    "        origin[k] = dup[k]\n",
    "def createDummy(n):\n",
    "    return [None for _ in range(n)]\n",
    "        \n",
    "students = [student.split() for student in eg1[1:]]\n",
    "students = [[s[0]]+list(map(int, s[1:])) for s in students]\n",
    "sortRules = [(0,True), (3, False), (2, True), (1, False)]\n",
    "for key, ascending in sortRules:\n",
    "    dummy = createDummy(n)\n",
    "    merge_sort(students, dummy, key, 0, n-1, ascending)\n",
    "for student, _, _, _ in students:\n",
    "    print(student)"
   ]
  },
  {
   "cell_type": "code",
   "execution_count": 46,
   "metadata": {
    "ExecuteTime": {
     "end_time": "2019-02-09T13:27:31.489289Z",
     "start_time": "2019-02-09T13:27:31.483287Z"
    }
   },
   "outputs": [
    {
     "name": "stdout",
     "output_type": "stream",
     "text": [
      "20 Sunyoung\n",
      "21 Junkyu\n",
      "21 Dohyun\n"
     ]
    }
   ],
   "source": [
    "# bj 10814 나이순 정렬\n",
    "eg1 = '''3\n",
    "21 Junkyu\n",
    "21 Dohyun\n",
    "20 Sunyoung'''\n",
    "members = eg1.split('\\n')\n",
    "n = int(members[0])\n",
    "members = [member.split() for member in members[1:]]\n",
    "members = [[int(m[0]), m[1]] for m in members]\n",
    "members = sorted(members, key=lambda k:k[0])\n",
    "for member in members:\n",
    "    print(member[0], member[1], sep=' ')"
   ]
  },
  {
   "cell_type": "code",
   "execution_count": 12,
   "metadata": {
    "ExecuteTime": {
     "end_time": "2019-02-05T08:38:15.482386Z",
     "start_time": "2019-02-05T08:38:15.476404Z"
    }
   },
   "outputs": [
    {
     "name": "stdout",
     "output_type": "stream",
     "text": [
      "2\n"
     ]
    }
   ],
   "source": [
    "# bj11004 k번째 수\n",
    "'''\n",
    "n, k = map(int, input().split())\n",
    "a = sorted(map(int, input().split()))\n",
    "'''\n",
    "eg1 = '''5 2\n",
    "4 1 2 3 5'''\n",
    "eg1 = eg1.split('\\n')\n",
    "n, k = map(int, eg1[0].split())\n",
    "a = sorted(map(int, eg1[1].split()))\n",
    "print(a[k-1])"
   ]
  },
  {
   "cell_type": "code",
   "execution_count": 22,
   "metadata": {
    "ExecuteTime": {
     "end_time": "2019-02-05T08:54:51.294489Z",
     "start_time": "2019-02-05T08:54:51.286542Z"
    }
   },
   "outputs": [
    {
     "name": "stdout",
     "output_type": "stream",
     "text": [
      "ABBA"
     ]
    }
   ],
   "source": [
    "# bj1213 팰린드롬 만들기\n",
    "'''\n",
    "names = input()\n",
    "'''\n",
    "eg1 = '''AABB'''\n",
    "\n",
    "from collections import Counter\n",
    "names = []\n",
    "isOdd = None\n",
    "for name, cnt in Counter(eg1).items():\n",
    "    if cnt%2==1:\n",
    "        if isOdd is not None:\n",
    "            names = \"I'm Sorry Hansoo\"\n",
    "            break\n",
    "        isOdd = name\n",
    "    names += list(name*(cnt//2))\n",
    "if names == \"I'm Sorry Hansoo\" : print(names)\n",
    "else:\n",
    "    names = sorted(names)\n",
    "    for name in names:\n",
    "        print(name, end='')\n",
    "    if isOdd is not None:\n",
    "        print(isOdd, end='')\n",
    "    for name in names[::-1]:\n",
    "        print(name, end='')"
   ]
  },
  {
   "cell_type": "code",
   "execution_count": 51,
   "metadata": {
    "ExecuteTime": {
     "end_time": "2019-02-09T14:32:03.043690Z",
     "start_time": "2019-02-09T14:32:03.031695Z"
    }
   },
   "outputs": [
    {
     "name": "stdout",
     "output_type": "stream",
     "text": [
      "1\n",
      "2\n",
      "3\n",
      "9\n"
     ]
    },
    {
     "ename": "IndexError",
     "evalue": "index out of range",
     "output_type": "error",
     "traceback": [
      "\u001b[1;31m---------------------------------------------------------------------------\u001b[0m",
      "\u001b[1;31mIndexError\u001b[0m                                Traceback (most recent call last)",
      "\u001b[1;32m<ipython-input-51-ef2940573a65>\u001b[0m in \u001b[0;36m<module>\u001b[1;34m()\u001b[0m\n\u001b[0;32m      5\u001b[0m     \u001b[0mheapq\u001b[0m\u001b[1;33m.\u001b[0m\u001b[0mheappush\u001b[0m\u001b[1;33m(\u001b[0m\u001b[0mheap\u001b[0m\u001b[1;33m,\u001b[0m \u001b[0mt\u001b[0m\u001b[1;33m)\u001b[0m\u001b[1;33m\u001b[0m\u001b[0m\n\u001b[0;32m      6\u001b[0m \u001b[1;32mwhile\u001b[0m \u001b[1;36m1\u001b[0m\u001b[1;33m:\u001b[0m\u001b[1;33m\u001b[0m\u001b[0m\n\u001b[1;32m----> 7\u001b[1;33m     \u001b[0mprint\u001b[0m\u001b[1;33m(\u001b[0m\u001b[0mheapq\u001b[0m\u001b[1;33m.\u001b[0m\u001b[0mheappop\u001b[0m\u001b[1;33m(\u001b[0m\u001b[0mheap\u001b[0m\u001b[1;33m)\u001b[0m\u001b[1;33m)\u001b[0m\u001b[1;33m\u001b[0m\u001b[0m\n\u001b[0m",
      "\u001b[1;31mIndexError\u001b[0m: index out of range"
     ]
    }
   ],
   "source": [
    "import heapq\n",
    "toy = [3,1,9,2]\n",
    "heap = []\n",
    "for t in toy:\n",
    "    heapq.heappush(heap, t)\n",
    "while 1:\n",
    "    print(heapq.heappop(heap))"
   ]
  },
  {
   "cell_type": "code",
   "execution_count": null,
   "metadata": {},
   "outputs": [],
   "source": [
    "# bj1572 중앙값\n",
    "'''\n",
    "온도순으로 heap 구조를 유지 : lgK으로 삽입가능\n",
    "동시에 인덱스 순서를 어떻게 유지하지? -> 키값\n",
    "KlgK*N\n",
    "\n",
    "'''\n",
    "\n",
    "def median(x, m, isOdd):\n",
    "    if isOdd : return x[m]\n",
    "    else : return (x[m-1]+x[m])/2"
   ]
  },
  {
   "cell_type": "code",
   "execution_count": 2,
   "metadata": {
    "ExecuteTime": {
     "end_time": "2019-02-10T04:24:07.306687Z",
     "start_time": "2019-02-10T04:24:07.292727Z"
    }
   },
   "outputs": [
    {
     "name": "stdout",
     "output_type": "stream",
     "text": [
      "4\n"
     ]
    }
   ],
   "source": [
    "# bj1059 수2\n",
    "eg1='''4\n",
    "1 7 14 10\n",
    "2'''\n",
    "eg1 = eg1.split('\\n')\n",
    "l = int(eg1[0])\n",
    "luckyes = list(map(int, eg1[1].split()))\n",
    "n = int(eg1[2])\n",
    "'''\n",
    "l = int(input())\n",
    "luckyes = list(map(int, input().split()))\n",
    "n = int(input())\n",
    "'''\n",
    "def unlucky(low, n, high):\n",
    "    left = n-low\n",
    "    right = high-n\n",
    "    if left<0 or right<0 : return 0\n",
    "    return left+right+left*right\n",
    "\n",
    "luckyes.append(n)\n",
    "luckyes = sorted(luckyes)\n",
    "idx = luckyes.index(n)\n",
    "if idx == 0:\n",
    "    low = 1\n",
    "    high = luckyes[1]-1\n",
    "elif idx == l :\n",
    "    low = high = None\n",
    "else :\n",
    "    low = luckyes[idx-1]+1\n",
    "    high = luckyes[idx+1]-1\n",
    "if low is None : print(0)\n",
    "else: print(unlucky(low, n, high))"
   ]
  }
 ],
 "metadata": {
  "kernelspec": {
   "display_name": "Python 3",
   "language": "python",
   "name": "python3"
  },
  "language_info": {
   "codemirror_mode": {
    "name": "ipython",
    "version": 3
   },
   "file_extension": ".py",
   "mimetype": "text/x-python",
   "name": "python",
   "nbconvert_exporter": "python",
   "pygments_lexer": "ipython3",
   "version": "3.6.7"
  },
  "latex_envs": {
   "LaTeX_envs_menu_present": true,
   "autoclose": false,
   "autocomplete": true,
   "bibliofile": "biblio.bib",
   "cite_by": "apalike",
   "current_citInitial": 1,
   "eqLabelWithNumbers": true,
   "eqNumInitial": 1,
   "hotkeys": {
    "equation": "Ctrl-E",
    "itemize": "Ctrl-I"
   },
   "labels_anchors": false,
   "latex_user_defs": false,
   "report_style_numbering": false,
   "user_envs_cfg": false
  }
 },
 "nbformat": 4,
 "nbformat_minor": 2
}
