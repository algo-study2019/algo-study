{
 "cells": [
  {
   "cell_type": "code",
   "execution_count": 10,
   "metadata": {
    "ExecuteTime": {
     "end_time": "2019-02-05T08:17:25.483313Z",
     "start_time": "2019-02-05T08:17:25.476360Z"
    }
   },
   "outputs": [
    {
     "name": "stdout",
     "output_type": "stream",
     "text": [
      "1 2 0 "
     ]
    }
   ],
   "source": [
    "# [NO] bj1015 수열정렬\n",
    "# n = int(input())\n",
    "# a = input().split()\n",
    "n = '3'\n",
    "a = '2 3 1'\n",
    "a = list((i, element) for i, element in enumerate(map(int,a.split())))\n",
    "a = sorted(a, key=lambda k: k[1])\n",
    "p = [None for _ in range(n)]\n",
    "for sortedidx, (idx, _) in enumerate(a):\n",
    "    p[idx] = sortedidx\n",
    "for v in p:\n",
    "    print(v, end=' ')"
   ]
  },
  {
   "cell_type": "code",
   "execution_count": 4,
   "metadata": {
    "ExecuteTime": {
     "end_time": "2019-02-09T08:16:53.528486Z",
     "start_time": "2019-02-09T08:16:53.050088Z"
    }
   },
   "outputs": [
    {
     "data": {
      "text/plain": [
       "11.512925464970229"
      ]
     },
     "execution_count": 4,
     "metadata": {},
     "output_type": "execute_result"
    }
   ],
   "source": [
    "import numpy as np\n",
    "np.log(100000)"
   ]
  },
  {
   "cell_type": "code",
   "execution_count": 40,
   "metadata": {
    "ExecuteTime": {
     "end_time": "2019-02-09T09:15:45.498349Z",
     "start_time": "2019-02-09T09:15:44.215969Z"
    }
   },
   "outputs": [
    {
     "name": "stdout",
     "output_type": "stream",
     "text": [
      "12 Junkyu 50 60 100 Sangkeun 80 60 50 Sunyoung 80 70 100 Soong 50 60 90 Haebin 50 60 100 Kangsoo 60 80 100 Donghyuk 80 60 100 Sei 70 70 70 Wonseob 70 70 90 Sanghyun 70 70 80 nsj 80 80 80 Taewhan 50 60 90\n"
     ]
    },
    {
     "ename": "ValueError",
     "evalue": "invalid literal for int() with base 10: '12 Junkyu 50 60 100 Sangkeun 80 60 50 Sunyoung 80 70 100 Soong 50 60 90 Haebin 50 60 100 Kangsoo 60 80 100 Donghyuk 80 60 100 Sei 70 70 70 Wonseob 70 70 90 Sanghyun 70 70 80 nsj 80 80 80 Taewhan 50 6",
     "output_type": "error",
     "traceback": [
      "\u001b[1;31m---------------------------------------------------------------------------\u001b[0m",
      "\u001b[1;31mValueError\u001b[0m                                Traceback (most recent call last)",
      "\u001b[1;32m<ipython-input-40-420c7c8fa9ef>\u001b[0m in \u001b[0;36m<module>\u001b[1;34m()\u001b[0m\n\u001b[0;32m      1\u001b[0m \u001b[1;32mimport\u001b[0m \u001b[0msys\u001b[0m\u001b[1;33m\u001b[0m\u001b[0m\n\u001b[0;32m      2\u001b[0m \u001b[0msys\u001b[0m\u001b[1;33m.\u001b[0m\u001b[0msetrecursionlimit\u001b[0m\u001b[1;33m(\u001b[0m\u001b[1;36m20000000\u001b[0m\u001b[1;33m)\u001b[0m\u001b[1;33m\u001b[0m\u001b[0m\n\u001b[1;32m----> 3\u001b[1;33m \u001b[0mn\u001b[0m \u001b[1;33m=\u001b[0m \u001b[0mint\u001b[0m\u001b[1;33m(\u001b[0m\u001b[0minput\u001b[0m\u001b[1;33m(\u001b[0m\u001b[1;33m)\u001b[0m\u001b[1;33m)\u001b[0m\u001b[1;33m\u001b[0m\u001b[0m\n\u001b[0m\u001b[0;32m      4\u001b[0m \u001b[0mstudents\u001b[0m \u001b[1;33m=\u001b[0m \u001b[0msys\u001b[0m\u001b[1;33m.\u001b[0m\u001b[0mstdin\u001b[0m\u001b[1;33m.\u001b[0m\u001b[0mread\u001b[0m\u001b[1;33m(\u001b[0m\u001b[1;33m)\u001b[0m\u001b[1;33m.\u001b[0m\u001b[0msplitlines\u001b[0m\u001b[1;33m(\u001b[0m\u001b[1;33m)\u001b[0m\u001b[1;33m\u001b[0m\u001b[0m\n\u001b[0;32m      5\u001b[0m \u001b[1;33m\u001b[0m\u001b[0m\n",
      "\u001b[1;31mValueError\u001b[0m: invalid literal for int() with base 10: '12 Junkyu 50 60 100 Sangkeun 80 60 50 Sunyoung 80 70 100 Soong 50 60 90 Haebin 50 60 100 Kangsoo 60 80 100 Donghyuk 80 60 100 Sei 70 70 70 Wonseob 70 70 90 Sanghyun 70 70 80 nsj 80 80 80 Taewhan 50 6"
     ]
    }
   ],
   "source": [
    "import sys\n",
    "sys.setrecursionlimit(20000000)\n",
    "n = int(input())\n",
    "students = sys.stdin.read().splitlines()\n",
    "\n",
    "def merge_sort(origin, dup, key, low, high, ascending=True):\n",
    "    if high <= low :\n",
    "        return\n",
    "    mid = low + (high-low)//2\n",
    "    merge_sort(origin, dup, key, low, mid, ascending=ascending)\n",
    "    merge_sort(origin, dup, key, mid+1, high, ascending=ascending)\n",
    "    merge(origin, dup, key, low, mid, high, ascending=ascending)\n",
    "    \n",
    "def merge(origin, dup, key, low, mid, high, ascending):\n",
    "    i = low\n",
    "    j = mid+1\n",
    "    for k in range(low, high+1):\n",
    "        if i>mid:\n",
    "            dup[k] = origin[j]\n",
    "            j+=1\n",
    "        elif j > high:\n",
    "            dup[k] = origin[i]\n",
    "            i+=1\n",
    "        elif ascending:\n",
    "            if origin[i][key] <= origin[j][key]:\n",
    "                dup[k] = origin[i]\n",
    "                i+=1\n",
    "            else : \n",
    "                dup[k] = origin[j]\n",
    "                j+=1\n",
    "        else :\n",
    "            if origin[i][key] >= origin[j][key] : \n",
    "                dup[k] = origin[i]\n",
    "                i+=1\n",
    "            else:\n",
    "                dup[k] = origin[j]\n",
    "                j+=1\n",
    "    for k in range(low, high+1):\n",
    "        origin[k] = dup[k]\n",
    "def createDummy(n):\n",
    "    return [None for _ in range(n)]\n",
    "        \n",
    "students = [student.split() for student in students]\n",
    "students = [[s[0]]+list(map(int, s[1:])) for s in students]\n",
    "sortRules = [(0,True), (3, False), (2, True), (1, False)]\n",
    "for key, ascending in sortRules:\n",
    "    dummy = createDummy(n)\n",
    "    merge_sort(students, dummy, key, 0, n-1, ascending)\n",
    "for student, _, _, _ in students:\n",
    "    print(student)"
   ]
  },
  {
   "cell_type": "code",
   "execution_count": 37,
   "metadata": {
    "ExecuteTime": {
     "end_time": "2019-02-09T09:13:12.240634Z",
     "start_time": "2019-02-09T09:13:12.230660Z"
    }
   },
   "outputs": [
    {
     "name": "stdout",
     "output_type": "stream",
     "text": [
      "Donghyuk\n",
      "Sangkeun\n",
      "Sunyoung\n",
      "nsj\n",
      "Wonseob\n",
      "Sanghyun\n",
      "Sei\n",
      "Kangsoo\n",
      "Haebin\n",
      "Junkyu\n",
      "Soong\n",
      "Taewhan\n"
     ]
    }
   ],
   "source": [
    "# bj 10825 국영수\n",
    "eg1 = '''12\n",
    "Junkyu 50 60 100\n",
    "Sangkeun 80 60 50\n",
    "Sunyoung 80 70 100\n",
    "Soong 50 60 90\n",
    "Haebin 50 60 100\n",
    "Kangsoo 60 80 100\n",
    "Donghyuk 80 60 100\n",
    "Sei 70 70 70\n",
    "Wonseob 70 70 90\n",
    "Sanghyun 70 70 80\n",
    "nsj 80 80 80\n",
    "Taewhan 50 60 90'''\n",
    "# n = int(input())\n",
    "import sys\n",
    "sys.setrecursionlimit(20000000)\n",
    "eg1 = eg1.split('\\n')\n",
    "n = int(eg1[0])\n",
    "\n",
    "def merge_sort(origin, dup, key, low, high, ascending=True):\n",
    "    if high <= low :\n",
    "        return\n",
    "    mid = low + (high-low)//2\n",
    "    merge_sort(origin, dup, key, low, mid, ascending=ascending)\n",
    "    merge_sort(origin, dup, key, mid+1, high, ascending=ascending)\n",
    "    merge(origin, dup, key, low, mid, high, ascending=ascending)\n",
    "    \n",
    "def merge(origin, dup, key, low, mid, high, ascending):\n",
    "    i = low\n",
    "    j = mid+1\n",
    "    for k in range(low, high+1):\n",
    "        if i>mid:\n",
    "            dup[k] = origin[j]\n",
    "            j+=1\n",
    "        elif j > high:\n",
    "            dup[k] = origin[i]\n",
    "            i+=1\n",
    "        elif ascending:\n",
    "            if origin[i][key] <= origin[j][key]:\n",
    "                dup[k] = origin[i]\n",
    "                i+=1\n",
    "            else : \n",
    "                dup[k] = origin[j]\n",
    "                j+=1\n",
    "        else :\n",
    "            if origin[i][key] >= origin[j][key] : \n",
    "                dup[k] = origin[i]\n",
    "                i+=1\n",
    "            else:\n",
    "                dup[k] = origin[j]\n",
    "                j+=1\n",
    "    for k in range(low, high+1):\n",
    "        origin[k] = dup[k]\n",
    "def createDummy(n):\n",
    "    return [None for _ in range(n)]\n",
    "        \n",
    "students = [student.split() for student in eg1[1:]]\n",
    "students = [[s[0]]+list(map(int, s[1:])) for s in students]\n",
    "sortRules = [(0,True), (3, False), (2, True), (1, False)]\n",
    "for key, ascending in sortRules:\n",
    "    dummy = createDummy(n)\n",
    "    merge_sort(students, dummy, key, 0, n-1, ascending)\n",
    "for student, _, _, _ in students:\n",
    "    print(student)"
   ]
  },
  {
   "cell_type": "code",
   "execution_count": 3,
   "metadata": {
    "ExecuteTime": {
     "end_time": "2019-02-09T07:57:48.633486Z",
     "start_time": "2019-02-09T07:57:48.628498Z"
    }
   },
   "outputs": [
    {
     "ename": "SyntaxError",
     "evalue": "invalid syntax (<ipython-input-3-6e0f6066a25b>, line 13)",
     "output_type": "error",
     "traceback": [
      "\u001b[1;36m  File \u001b[1;32m\"<ipython-input-3-6e0f6066a25b>\"\u001b[1;36m, line \u001b[1;32m13\u001b[0m\n\u001b[1;33m    for k in range(low, high+1)\u001b[0m\n\u001b[1;37m                               ^\u001b[0m\n\u001b[1;31mSyntaxError\u001b[0m\u001b[1;31m:\u001b[0m invalid syntax\n"
     ]
    }
   ],
   "source": [
    "# merge sort\n"
   ]
  },
  {
   "cell_type": "code",
   "execution_count": null,
   "metadata": {},
   "outputs": [],
   "source": [
    "# bj 10814 나이순 정렬\n",
    "eg1 = '''3\n",
    "21 Junkyu\n",
    "21 Dohyun\n",
    "20 Sunyoung'''\n"
   ]
  },
  {
   "cell_type": "code",
   "execution_count": 12,
   "metadata": {
    "ExecuteTime": {
     "end_time": "2019-02-05T08:38:15.482386Z",
     "start_time": "2019-02-05T08:38:15.476404Z"
    }
   },
   "outputs": [
    {
     "name": "stdout",
     "output_type": "stream",
     "text": [
      "2\n"
     ]
    }
   ],
   "source": [
    "# bj11004 k번째 수\n",
    "'''\n",
    "n, k = map(int, input().split())\n",
    "a = sorted(map(int, input().split()))\n",
    "'''\n",
    "eg1 = '''5 2\n",
    "4 1 2 3 5'''\n",
    "eg1 = eg1.split('\\n')\n",
    "n, k = map(int, eg1[0].split())\n",
    "a = sorted(map(int, eg1[1].split()))\n",
    "print(a[k-1])"
   ]
  },
  {
   "cell_type": "code",
   "execution_count": 22,
   "metadata": {
    "ExecuteTime": {
     "end_time": "2019-02-05T08:54:51.294489Z",
     "start_time": "2019-02-05T08:54:51.286542Z"
    }
   },
   "outputs": [
    {
     "name": "stdout",
     "output_type": "stream",
     "text": [
      "ABBA"
     ]
    }
   ],
   "source": [
    "# bj1213 팰린드롬 만들기\n",
    "'''\n",
    "names = input()\n",
    "'''\n",
    "eg1 = '''AABB'''\n",
    "\n",
    "from collections import Counter\n",
    "names = []\n",
    "isOdd = None\n",
    "for name, cnt in Counter(eg1).items():\n",
    "    if cnt%2==1:\n",
    "        if isOdd is not None:\n",
    "            names = \"I'm Sorry Hansoo\"\n",
    "            break\n",
    "        isOdd = name\n",
    "    names += list(name*(cnt//2))\n",
    "if names == \"I'm Sorry Hansoo\" : print(names)\n",
    "else:\n",
    "    names = sorted(names)\n",
    "    for name in names:\n",
    "        print(name, end='')\n",
    "    if isOdd is not None:\n",
    "        print(isOdd, end='')\n",
    "    for name in names[::-1]:\n",
    "        print(name, end='')"
   ]
  },
  {
   "cell_type": "code",
   "execution_count": null,
   "metadata": {},
   "outputs": [],
   "source": [
    "# bj1572 중앙값"
   ]
  },
  {
   "cell_type": "code",
   "execution_count": null,
   "metadata": {},
   "outputs": [],
   "source": [
    "# bj1059 수2\n",
    "'''\n",
    "'''\n",
    "eg1='''4\n",
    "1 7 14 10\n",
    "2'''\n",
    "eg1 = eg1.split('\\n')\n",
    "l = int(eg1[0])\n",
    "luckys = list(map(int, eg1[1].split()))\n"
   ]
  }
 ],
 "metadata": {
  "kernelspec": {
   "display_name": "Python 3",
   "language": "python",
   "name": "python3"
  },
  "language_info": {
   "codemirror_mode": {
    "name": "ipython",
    "version": 3
   },
   "file_extension": ".py",
   "mimetype": "text/x-python",
   "name": "python",
   "nbconvert_exporter": "python",
   "pygments_lexer": "ipython3",
   "version": "3.6.4"
  },
  "latex_envs": {
   "LaTeX_envs_menu_present": true,
   "autoclose": false,
   "autocomplete": true,
   "bibliofile": "biblio.bib",
   "cite_by": "apalike",
   "current_citInitial": 1,
   "eqLabelWithNumbers": true,
   "eqNumInitial": 1,
   "hotkeys": {
    "equation": "Ctrl-E",
    "itemize": "Ctrl-I"
   },
   "labels_anchors": false,
   "latex_user_defs": false,
   "report_style_numbering": false,
   "user_envs_cfg": false
  }
 },
 "nbformat": 4,
 "nbformat_minor": 2
}
